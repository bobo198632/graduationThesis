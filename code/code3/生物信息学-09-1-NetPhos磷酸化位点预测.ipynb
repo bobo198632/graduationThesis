{
 "cells": [
  {
   "cell_type": "code",
   "execution_count": null,
   "metadata": {},
   "outputs": [],
   "source": [
    "import requests\n",
    "import re\n",
    "import os\n",
    "import time"
   ]
  },
  {
   "cell_type": "code",
   "execution_count": null,
   "metadata": {},
   "outputs": [],
   "source": [
    "print(os.getcwd())"
   ]
  },
  {
   "cell_type": "code",
   "execution_count": null,
   "metadata": {},
   "outputs": [],
   "source": [
    "# judge if the folder exist. 判断图集的文件夹是否存在，如果不存在则建立一个\n",
    "def fJudgeFileNetPhos(vSeqName):    \n",
    "    global vFoldNameNetPhos\n",
    "    vFoldNameNetPhos = os.getcwd() + \"\\\\\" + vSeqName + \"\\\\NetPhos磷酸化位点\\\\\"\n",
    "    os.makedirs(vFoldNameNetPhos, exist_ok = True)\n",
    "    os.chdir(vFoldNameNetPhos)\n",
    "    os.makedirs(\"Pic\", exist_ok = True)"
   ]
  },
  {
   "cell_type": "code",
   "execution_count": null,
   "metadata": {},
   "outputs": [],
   "source": [
    "def fGetNetPhos(vSeq):\n",
    "    vUrl = \"http://www.cbs.dtu.dk/cgi-bin/webface2.fcgi\"\n",
    "    vPostData ={\"configfile\": \"/usr/opt/www/pub/CBS/services/NetPhos-3.1/NetPhos.cf\",\n",
    "                \"SEQPASTE\": vSeq,                \n",
    "                \"graphics\": \"ps\"}\n",
    "    r = requests.post(vUrl, data = vPostData)\n",
    "    time.sleep(5)\n",
    "    vRealUrl = re.search(\"a href=\\\"([\\s\\S]*?)\\\"\", r.text, re.S).group(1)\n",
    "    time.sleep(5)\n",
    "    r = requests.get(vRealUrl)    \n",
    "    return(r.text)"
   ]
  },
  {
   "cell_type": "code",
   "execution_count": null,
   "metadata": {},
   "outputs": [],
   "source": [
    "def fSaveNetPhosPic(vHtml):\n",
    "    global vCode    \n",
    "    vCode = str(re.search(\"services/NetPhos-3.1/tmp/(.*?)/netphos-3.1b.Sequence.gif\", vHtml, re.S).group(1))                           \n",
    "    vPicA = \"http://www.cbs.dtu.dk/services/NetPhos-3.1/tmp/\" + vCode + \"/netphos-3.1b.Sequence.gif\"\n",
    "    with open(\"Pic\\\\NetPhos.gif\", \"wb\") as vPic1:\n",
    "        r = requests.get(vPicA)\n",
    "        vPic1.write(r.content)"
   ]
  },
  {
   "cell_type": "code",
   "execution_count": null,
   "metadata": {},
   "outputs": [],
   "source": [
    "def fSoupNetPhos(vHtml):\n",
    "    vNetPhosText = vHtml\n",
    "    vNetPhos1 = vNetPhosText.replace(re.search(\"[\\s\\S]*?\\</h2\\>\", vNetPhosText, re.S).group(0), \"<h1>NetPhos磷酸化位点分析</h1><p><a href = \\\"http://www.cbs.dtu.dk/services/NetPhos/\\\">使用NetPhos 1.0查询</a></p>\")\n",
    "    vNetPhos2 = vNetPhos1.replace(re.search(\"Sequence.gif\\\"\\>([\\s\\S]*)\", vNetPhos1, re.S).group(1), \"</p><h3>文件下载</h3><p><a href=\\\"file:///\" + vFoldNameNetPhos + \"Pic\\\\NetPhos.gif\\\">gif图片</a><p><a href=\\\"file:///\" + vFoldNameNetPhos + \"Pic\\\\NetPhos.eps\\\">eps图片</a></p>\")\n",
    "    vNetPhos3 = vNetPhos2.replace(\"     Asn-Xaa-Ser/Thr sequons in the sequence output below are highlighted in <font color=\\\"#0000ff\\\"><b>blue</b></font>\", \"Asn Xaa Ser/Thr使用高亮的<font color=\\\"#0000ff\\\"><b>蓝色</b></font>\")\n",
    "    vNetPhos4 = vNetPhos3.replace(\"/services/NetPhos-3.1/tmp/\" + vCode + \"//netphos-3.1b.Sequence.gif\", \"file:///\" + vFoldNameNetPhos + \"Pic\\\\NetPhos.gif\")\n",
    "    vNetPhos5 = vNetPhos4.replace(\" amino acids\", \"个氨基酸残基\").replace(\" prediction results\", \"预测结果\")\n",
    "    vNetPhos6 = vNetPhos5.replace(\"          Asparagines predicted to be N-glycosylated are highlighted in <font color=\\\"#ff0000\\\"><b>red</font>\", \"N-糖基化的天冬酰胺使用高亮的<font color=\\\"#ff0000\\\"><b>红色</font>\")\n",
    "    vNetPhos7 = vNetPhos6.replace(\"Technical University of Denmark\", \"丹麦科技大学\")\n",
    "    vNetPhos = vNetPhos7\n",
    "    with open(\"NetPhos.html\", \"w\") as f:\n",
    "        f.write(vNetPhos)"
   ]
  },
  {
   "cell_type": "code",
   "execution_count": null,
   "metadata": {},
   "outputs": [],
   "source": [
    "def main(vSeqName, vSeq):\n",
    "    print(\"===开始NetPhos糖基化位点分析===\")\n",
    "    fJudgeFileNetPhos(vSeqName)\n",
    "    print(\"---------已创建存储目录---------\")\n",
    "    print(\"----------开始提交数据----------\")\n",
    "    vHtml = fGetNetPhos(vSeq)\n",
    "    print(\"---------已获取分析结果---------\")\n",
    "    print(\"----------开始保存数据----------\")\n",
    "    fSaveNetPhosPic(vHtml)\n",
    "    print(\"----------开始保存报告----------\")\n",
    "    fSoupNetPhos(vHtml)\n",
    "    print(\"---------结果已保存完毕---------\")"
   ]
  },
  {
   "cell_type": "code",
   "execution_count": null,
   "metadata": {},
   "outputs": [],
   "source": [
    "with open(\"name.txt\", \"r\") as f:\n",
    "    vSeqName = f.read()\n",
    "with open(\"orf.txt\", \"r\") as f:\n",
    "    vSeq = f.read()\n",
    "main(vSeqName, vSeq)"
   ]
  },
  {
   "cell_type": "code",
   "execution_count": null,
   "metadata": {},
   "outputs": [],
   "source": []
  }
 ],
 "metadata": {
  "kernelspec": {
   "display_name": "Python 3",
   "language": "python",
   "name": "python3"
  },
  "language_info": {
   "codemirror_mode": {
    "name": "ipython",
    "version": 3
   },
   "file_extension": ".py",
   "mimetype": "text/x-python",
   "name": "python",
   "nbconvert_exporter": "python",
   "pygments_lexer": "ipython3",
   "version": "3.7.3"
  }
 },
 "nbformat": 4,
 "nbformat_minor": 2
}
