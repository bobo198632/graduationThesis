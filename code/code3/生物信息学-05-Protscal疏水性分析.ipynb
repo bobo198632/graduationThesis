{
 "cells": [
  {
   "cell_type": "code",
   "execution_count": null,
   "metadata": {},
   "outputs": [],
   "source": [
    "import requests\n",
    "import re\n",
    "import os"
   ]
  },
  {
   "cell_type": "code",
   "execution_count": null,
   "metadata": {},
   "outputs": [],
   "source": [
    "# judge if the folder exist. 判断图集的文件夹是否存在，如果不存在则建立一个\n",
    "def fJudgeFile(vSeqName):\n",
    "    global vProtscalFoldName\n",
    "    vProtscalFoldName = \"E:\\\\Store\\\\code\\\\02.Python\\\\03.Request\\\\Bio\" + \"\\\\\" + vSeqName + \"\\\\Protscal疏水性分析\\\\\"\n",
    "    os.makedirs(vProtscalFoldName, exist_ok = True)\n",
    "    os.chdir(vProtscalFoldName)\n",
    "    os.makedirs(\"Pic\", exist_ok = True)\n",
    "    os.makedirs(\"Text\", exist_ok = True)"
   ]
  },
  {
   "cell_type": "code",
   "execution_count": null,
   "metadata": {},
   "outputs": [],
   "source": [
    "def fGetProtscal(vSeq):\n",
    "    vUrl = \"https://web.expasy.org/cgi-bin/protscale/protscale.pl?1\"\n",
    "    vPostData ={\"sequence\": vSeq,\n",
    "                \"scale\": \"Hphob. / Kyte & Doolittle\",\n",
    "                \"window\": \"9\"}\n",
    "    r = requests.post(vUrl, data = vPostData)\n",
    "    return(r.text)"
   ]
  },
  {
   "cell_type": "code",
   "execution_count": null,
   "metadata": {},
   "outputs": [],
   "source": [
    "def fSaveProtscalPic(vHtml):\n",
    "    global vCode\n",
    "    vCode = str(re.search(\"/tmp/pscale(.*?)\\.gif\", vHtml, re.S).group(1))    \n",
    "    vPicA = \"https://web.expasy.org\" + \"/tmp/pscale\" + vCode + \".gif\"    \n",
    "    vPicB = \"https://web.expasy.org\" + \"/tmp/pscale\" + vCode + \".ps\"\n",
    "    vTxtA = \"https://web.expasy.org\" + \"/tmp/scores\" + vCode + \".txt\"\n",
    "    vTxtB = \"https://web.expasy.org\" + \"/tmp/scoresmin\" + vCode + \".txt\"\n",
    "    with open(\"Pic\\\\pscale.gif\", \"wb\") as vPic1:\n",
    "        r = requests.get(vPicA)\n",
    "        vPic1.write(r.content)\n",
    "    with open(\"Pic\\\\pscale.ps\", \"wb\") as vPic2:\n",
    "        r = requests.get(vPicB)\n",
    "        vPic2.write(r.content)\n",
    "    with open(\"Text\\\\scores.txt\", \"wb\") as vTxt1:\n",
    "        r = requests.get(vTxtA)\n",
    "        vTxt1.write(r.content)\n",
    "    with open(\"Text\\\\scoresmin.txt\", \"wb\") as vTxt2:\n",
    "        r = requests.get(vTxtB)\n",
    "        vTxt2.write(r.content)"
   ]
  },
  {
   "cell_type": "code",
   "execution_count": null,
   "metadata": {},
   "outputs": [],
   "source": [
    "def fSoupProtscal(vHtml):\n",
    "    vProtscal1 = re.search(\"(\\<h1\\>ProtScale[\\s\\S]*?)\\<br clear=\", vHtml, re.S).group(1)\n",
    "    vProtscal2 = vProtscal1.replace(\"<h1>ProtScale\", \"<h1>ProtScale疏水性分析\").replace(\"User-provided sequence:\", \"用户数据：\")\n",
    "    vProtscal3 = vProtscal2.replace(\"SEQUENCE LENGTH\", \"序列长度\").replace(\"Using the scale\", \"使用的计量方法：\")\n",
    "    vProtscal4 = vProtscal3.replace(\"/protscale/pscale/Hphob.Doolittle.html\", \"https://web.expasy.org/protscale/pscale/Hphob.Doolittle.html\")\n",
    "    vProtscal5 = vProtscal4.replace(\", the individual values\", \"  20种氨基酸的计算值：\").replace(\"for the 20 amino acids are:\", \"\")\n",
    "    vProtscal6 = vProtscal5.replace(\"Weights for window positions\", \"显示位置的权重\").replace(\"using\", \"\")\n",
    "    vProtscal7 = vProtscal6.replace(\"weight variation model\", \"线性质量差异模型(linearweight variation model)\")\n",
    "    vProtscal8 = vProtscal7.replace(\"The results of your ProtScale query are\", \"ProtScale提供以下格式的查询结果供使用：\").replace(\"available in the following formats:\", \"\")\n",
    "    vProtscal9 = vProtscal8.replace(\"Image in GIF-format\", \"gif图片\").replace(\"Image in Postscript-format\", \"Postscript格式的图片\")\n",
    "    vProtscal10 = vProtscal9.replace(\"Numerical format (verbose)\", \"详细格式的数据(txt)\").replace(\"Numerical format (minimal, to be exported into an external application)\", \"最简格式的数据(txt)\")\n",
    "    vProtscal11 = vProtscal10.replace(\"/tmp/pscale\" + vCode + \".gif\", \"file:///\" + vProtscalFoldName + \"\\Pic\" + \"\\pscale.gif\")\n",
    "    vProtscal12 = vProtscal11.replace(\"/tmp/pscale\" + vCode + \".ps\", \"file:///\" + vProtscalFoldName + \"\\Pic\" + \"\\pscale.ps\")\n",
    "    vProtscal13 = vProtscal12.replace(\"/tmp/scores\" + vCode + \".txt\", \"file:///\" + vProtscalFoldName + \"\\Text\" + \"\\scores.txt\")\n",
    "    vProtscal14 = vProtscal13.replace(\"/tmp/scoresmin\" + vCode + \".txt\", \"file:///\" + vProtscalFoldName + \"\\Text\" + \"\\scoresmin.txt\")\n",
    "    vProtscal = vProtscal14\n",
    "    with open(\"Protscal.html\", \"w\") as f:\n",
    "        f.write(vProtscal)"
   ]
  },
  {
   "cell_type": "code",
   "execution_count": null,
   "metadata": {},
   "outputs": [],
   "source": [
    "def main(vSeqName, vSeq):\n",
    "    print(\"=====开始Protscal疏水性分析=====\")\n",
    "    fJudgeFile(vSeqName)\n",
    "    print(\"---------已创建存储目录---------\")\n",
    "    print(\"----------开始提交数据----------\")\n",
    "    vHtml = fGetProtscal(vSeq)\n",
    "    print(\"---------已获取分析结果---------\")\n",
    "    print(\"----------开始保存数据----------\")\n",
    "    fSaveProtscalPic(vHtml)\n",
    "    print(\"----------开始保存报告----------\")\n",
    "    fSoupProtscal(vHtml)\n",
    "    print(\"---------结果已保存完毕---------\")"
   ]
  },
  {
   "cell_type": "code",
   "execution_count": null,
   "metadata": {},
   "outputs": [],
   "source": [
    "vSeqName = \"Ldlr\"\n",
    "vSeq = \"MRTGTGSRLMPLDFRKIPQPKCIYTKRQRRKKKMRQHGAELRGSQPAGAVSDGTARSRLFFINSSAHHIAMGECQDEFAIAQLPCKCCLLPIPLLHMNKFSSIQCHKGLDLPVICCRLIKLHPQMKADLCVLEGAVCFYDDSIPVLLDDCGRLGHASHLPGGKAHTE\"\n",
    "main(vSeqName, vSeq)"
   ]
  }
 ],
 "metadata": {
  "kernelspec": {
   "display_name": "Python 3",
   "language": "python",
   "name": "python3"
  },
  "language_info": {
   "codemirror_mode": {
    "name": "ipython",
    "version": 3
   },
   "file_extension": ".py",
   "mimetype": "text/x-python",
   "name": "python",
   "nbconvert_exporter": "python",
   "pygments_lexer": "ipython3",
   "version": "3.7.3"
  }
 },
 "nbformat": 4,
 "nbformat_minor": 2
}
