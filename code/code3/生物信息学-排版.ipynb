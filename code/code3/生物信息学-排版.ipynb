{
 "cells": [
  {
   "cell_type": "code",
   "execution_count": 3,
   "metadata": {},
   "outputs": [
    {
     "name": "stdout",
     "output_type": "stream",
     "text": [
      "MRTGTGSRLMPLDFRKIPQPKCIYTKRQRRKKKMRQHGAELRGSQPAGAVSDGTARSRLFFINSSAHHIAMGECQDEFAIAQLPCKCCLLPIPLLHMNKFSSIQCHKGLDLPVICCRLIKLHPQMKADLCVLEGAVCFYDDSIPVLLDDCGRLGHASHLPGGKAHTE\n",
      "\n"
     ]
    }
   ],
   "source": [
    "with open(\"F:\\\\PythonData\\\\生物信息学分析\\\\test\\\\testOrfFinder.csv\", \"r\") as f:    \n",
    "    vSeqs = []    \n",
    "    for vLine in f.readlines():\n",
    "        vSeqs.append(vLine)\n",
    "    vSeq = vSeqs[0].split(\",\")[2]\n",
    "print(vSeq)"
   ]
  },
  {
   "cell_type": "code",
   "execution_count": 33,
   "metadata": {},
   "outputs": [
    {
     "name": "stdout",
     "output_type": "stream",
     "text": [
      "<html>\n",
      "<head>\n",
      "</head>\n",
      "\n",
      "<body>\n",
      "    \t<h3>OrfFinder<h3>\n",
      "    \t<p>\n",
      "MRTGTGSRLMPLDFRKIPQPKCIYTKRQRRKKKMRQHGAELRGSQPAGAVSDGTARSRLFFINSSAHHIAMGECQDEFAIAQLPCKCCLLPIPLLHMNKFSSIQCHKGLDLPVICCRLIKLHPQMKADLCVLEGAVCFYDDSIPVLLDDCGRLGHASHLPGGKAHTE\n",
      "\t</p>\n",
      "</body>\n",
      "\n",
      "<foot>\n",
      "</foot>\n",
      "</html>\n"
     ]
    }
   ],
   "source": [
    "vHtml = \"<html>\\n<head>\\n</head>\\n\\n\\\n",
    "<body>\\n\\\n",
    "    \\t<h3>OrfFinder<h3>\\n\\\n",
    "    \\t<p>\\n\" + vSeq + \"\\t</p>\\n\\\n",
    "</body>\\n\\n\\\n",
    "<foot>\\n</foot>\\n\\\n",
    "</html>\"\n",
    "print(vHtml)"
   ]
  },
  {
   "cell_type": "code",
   "execution_count": null,
   "metadata": {},
   "outputs": [],
   "source": []
  }
 ],
 "metadata": {
  "kernelspec": {
   "display_name": "Python 3",
   "language": "python",
   "name": "python3"
  },
  "language_info": {
   "codemirror_mode": {
    "name": "ipython",
    "version": 3
   },
   "file_extension": ".py",
   "mimetype": "text/x-python",
   "name": "python",
   "nbconvert_exporter": "python",
   "pygments_lexer": "ipython3",
   "version": "3.7.3"
  }
 },
 "nbformat": 4,
 "nbformat_minor": 2
}
