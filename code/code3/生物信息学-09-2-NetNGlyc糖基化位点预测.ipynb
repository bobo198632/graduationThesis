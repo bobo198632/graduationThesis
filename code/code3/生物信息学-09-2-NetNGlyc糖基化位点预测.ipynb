{
 "cells": [
  {
   "cell_type": "code",
   "execution_count": null,
   "metadata": {},
   "outputs": [],
   "source": [
    "import requests\n",
    "import re\n",
    "import os\n",
    "import time"
   ]
  },
  {
   "cell_type": "code",
   "execution_count": null,
   "metadata": {},
   "outputs": [],
   "source": [
    "# judge if the folder exist. 判断图集的文件夹是否存在，如果不存在则建立一个\n",
    "def fJudgeFileNetNGlyc(vSeqName):    \n",
    "    global vFoldNameNetNGlyc\n",
    "    vFoldNameNetNGlyc = \"E:\\\\Store\\\\code\\\\02.Python\\\\03.Request\\\\Bio\" + \"\\\\\" + vSeqName + \"\\\\NetNGlyc糖基化位点\\\\\"\n",
    "    os.makedirs(vFoldNameNetNGlyc, exist_ok = True)\n",
    "    os.chdir(vFoldNameNetNGlyc)\n",
    "    os.makedirs(\"Pic\", exist_ok = True)"
   ]
  },
  {
   "cell_type": "code",
   "execution_count": null,
   "metadata": {},
   "outputs": [],
   "source": [
    "def fGetNetNGlyc(vSeq):\n",
    "    vUrl = \"http://www.cbs.dtu.dk/cgi-bin/webface2.fcgi\"\n",
    "    vPostData ={\"configfile\": \"/usr/opt/www/pub/CBS/services/NetNGlyc-1.0/NetNGlyc.cf\",\n",
    "                \"SEQPASTE\": vSeq,                \n",
    "                \"graphics\": \"ps\"}\n",
    "    r = requests.post(vUrl, data = vPostData)\n",
    "    time.sleep(5)\n",
    "    vRealUrl = re.search(\"a href=\\\"([\\s\\S]*?)\\\"\", r.text, re.S).group(1)\n",
    "    time.sleep(5)\n",
    "    r = requests.get(vRealUrl)\n",
    "    return(r.text)"
   ]
  },
  {
   "cell_type": "code",
   "execution_count": null,
   "metadata": {},
   "outputs": [],
   "source": [
    "def fSaveNetNGlycPic(vHtml):\n",
    "    global vCode    \n",
    "    vCode = str(re.search(\"http://www.cbs.dtu.dk//services/NetNGlyc/tmp//(.*?).gif\", vHtml, re.S).group(1))    \n",
    "    vPicA = \"http://www.cbs.dtu.dk//services/NetNGlyc/tmp//\" + vCode + \".gif\"    \n",
    "    vPicB = \"http://www.cbs.dtu.dk//services/NetNGlyc/tmp//\" + vCode + \".eps\"    \n",
    "    with open(\"Pic\\\\NetNGlyc.gif\", \"wb\") as vPic1:\n",
    "        r = requests.get(vPicA)\n",
    "        vPic1.write(r.content)\n",
    "    with open(\"Pic\\\\NetNGlyc.eps\", \"wb\") as vPic2:\n",
    "        r = requests.get(vPicB)\n",
    "        vPic2.write(r.content)   "
   ]
  },
  {
   "cell_type": "code",
   "execution_count": null,
   "metadata": {},
   "outputs": [],
   "source": [
    "def fSoupNetNGlyc(vHtml):\n",
    "    vNetNGlycText = vHtml\n",
    "    vNetNGlyc1 = vNetNGlycText.replace(re.search(\"[\\s\\S]*?\\</h2\\>\", vNetNGlycText, re.S).group(0), \"<h1>NetNGlyc糖基化位点分析</h1><p><a href = \\\"http://www.cbs.dtu.dk/services/NetNGlyc/\\\">使用NetNGlyc 1.0查询</a></p>\")\n",
    "    vNetNGlyc2 = vNetNGlyc1.replace(re.search(\"\\<b\\>Graphics[\\s\\S]*\", vNetNGlyc1, re.S).group(0), \"</a><h3>文件下载</h3><p><a href=\\\"file:///\" + vFoldNameNetNGlyc + \"Pic\\\\NetNGlyc.gif\\\">gif图片</a><p><a href=\\\"file:///\" + vFoldNameNetNGlyc + \"Pic\\\\NetNGlyc.eps\\\">eps图片</a></p>\")\n",
    "    vNetNGlyc3 = vNetNGlyc2.replace(\"     Asn-Xaa-Ser/Thr sequons in the sequence output below are highlighted in <font color=\\\"#0000ff\\\"><b>blue</b></font>\", \"Asn Xaa Ser/Thr使用高亮的<font color=\\\"#0000ff\\\"><b>蓝色</b></font>\")\n",
    "    vNetNGlyc4 = vNetNGlyc3.replace(\"http://www.cbs.dtu.dk//services/NetNGlyc/tmp//\" + vCode + \".gif\", \"file:///\" + vFoldNameNetNGlyc + \"\\Pic\" + \"\\\\NetNGlyc.gif\")\n",
    "    vNetNGlyc5 = vNetNGlyc4.replace(\"http://www.cbs.dtu.dk//services/NetNGlyc/tmp//\" + vCode + \".eps\", \"file:///\" + vFoldNameNetNGlyc + \"\\Pic\" + \"\\\\NetNGlyc.eps\")\n",
    "    vNetNGlyc6 = vNetNGlyc5.replace(\"          Asparagines predicted to be N-glycosylated are highlighted in <font color=\\\"#ff0000\\\"><b>red</font>\", \"N-糖基化的天冬酰胺使用高亮的<font color=\\\"#ff0000\\\"><b>红色</font>\")\n",
    "    vNetNGlyc7 = vNetNGlyc6.replace(\"Output for 'Sequence'\", \"预测结果\").replace(\"Position\", \"位置\").replace(\"Potential\", \"可能性\").replace(\"Technical University of Denmark\", \"丹麦科技大学\")\n",
    "    vNetNGlyc8 = vNetNGlyc7.replace(\"You can get the prediction graphics shown above in one of\", \"\")\n",
    "    vNetNGlyc9 = vNetNGlyc8.replace(\"\", \"\").replace(\"\", \"\")\n",
    "    vNetNGlyc10 = vNetNGlyc9.replace(\"\", \"\").replace(\"\", \"\").replace(\"\", \"\").replace(\"\", \"\")\n",
    "    vNetNGlyc = vNetNGlyc10\n",
    "    with open(\"NetNGlyc.html\", \"w\") as f:\n",
    "        f.write(vNetNGlyc)"
   ]
  },
  {
   "cell_type": "code",
   "execution_count": null,
   "metadata": {},
   "outputs": [],
   "source": [
    "def main(vSeqName, vSeq):\n",
    "    print(\"===开始NetNGlyc糖基化位点分析===\")\n",
    "    fJudgeFileNetNGlyc(vSeqName)\n",
    "    print(\"---------已创建存储目录---------\")\n",
    "    print(\"----------开始提交数据----------\")\n",
    "    vHtml = fGetNetNGlyc(vSeq)\n",
    "    print(\"---------已获取分析结果---------\")\n",
    "    print(\"----------开始保存数据----------\")\n",
    "    fSaveNetNGlycPic(vHtml)\n",
    "    print(\"----------开始保存报告----------\")\n",
    "    fSoupNetNGlyc(vHtml)\n",
    "    print(\"---------结果已保存完毕---------\")"
   ]
  },
  {
   "cell_type": "code",
   "execution_count": null,
   "metadata": {},
   "outputs": [],
   "source": [
    "with open(\"name.txt\", \"r\") as f:\n",
    "    vSeqName = f.read()\n",
    "with open(\"orf.txt\", \"r\") as f:\n",
    "    vSeq = f.read()\n",
    "main(vSeqName, vSeq)"
   ]
  },
  {
   "cell_type": "code",
   "execution_count": null,
   "metadata": {},
   "outputs": [],
   "source": []
  }
 ],
 "metadata": {
  "kernelspec": {
   "display_name": "Python 3",
   "language": "python",
   "name": "python3"
  },
  "language_info": {
   "codemirror_mode": {
    "name": "ipython",
    "version": 3
   },
   "file_extension": ".py",
   "mimetype": "text/x-python",
   "name": "python",
   "nbconvert_exporter": "python",
   "pygments_lexer": "ipython3",
   "version": "3.7.3"
  }
 },
 "nbformat": 4,
 "nbformat_minor": 2
}
