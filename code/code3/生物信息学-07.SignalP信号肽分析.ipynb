{
 "cells": [
  {
   "cell_type": "code",
   "execution_count": 1,
   "metadata": {},
   "outputs": [],
   "source": [
    "import requests\n",
    "import re\n",
    "import os\n",
    "import time"
   ]
  },
  {
   "cell_type": "code",
   "execution_count": 2,
   "metadata": {},
   "outputs": [],
   "source": [
    "# judge if the folder exist. 判断图集的文件夹是否存在，如果不存在则建立一个\n",
    "def fJudgeFileSignalP(vSeqName):    \n",
    "    global vFoldNameSignalP\n",
    "    vFoldNameSignalP = \"E:\\\\Store\\\\code\\\\02.Python\\\\03.Request\\\\Bio\" + \"\\\\\" + vSeqName + \"\\\\SignalP\\\\\"\n",
    "    os.makedirs(vFoldNameSignalP, exist_ok = True)\n",
    "    os.chdir(vFoldNameSignalP)\n",
    "    os.makedirs(\"Pic\", exist_ok = True)\n",
    "    os.makedirs(\"Text\", exist_ok = True)"
   ]
  },
  {
   "cell_type": "code",
   "execution_count": 3,
   "metadata": {},
   "outputs": [],
   "source": [
    "def fGetSignalP(vSeq):    \n",
    "    vUrl = \"http://www.cbs.dtu.dk/cgi-bin/webface2.fcgi\"\n",
    "    vPostData = {\"configfile\": \"/usr/opt/www/pub/CBS/services/SignalP-5.0/signalp5.cf\",\n",
    "                 \"fasta\": vSeq,\n",
    "                 \"organism\": \"Eukarya\",\n",
    "                 \"format\": \"long\"}\n",
    "    r = requests.post(vUrl, data = vPostData)    \n",
    "    vCode = re.search(\"a href=\\\"http://www.cbs.dtu.dk//cgi-bin/webface2.fcgi\\?jobid=([\\s\\S]*?)\\\"\", r.text, re.S).group(1)    \n",
    "    vRealUrl = \"http://www.cbs.dtu.dk/services/SignalP-5.0/tmp/\" + vCode    \n",
    "    time.sleep(30)\n",
    "    return(vRealUrl)"
   ]
  },
  {
   "cell_type": "code",
   "execution_count": 4,
   "metadata": {},
   "outputs": [],
   "source": [
    "def fSaveSignalPPic(vRealUrl):\n",
    "    print(vRealUrl)\n",
    "    vPicA = vRealUrl + \"/output_Sequence_plot.png\"    \n",
    "    vPicB = vRealUrl + \"/output_Sequence_plot.eps\"    \n",
    "    vTxtA = vRealUrl + \"/output_protein_type.txt\"\n",
    "    with open(\"Pic\\\\SignalP.png\", \"wb\") as vPic1:\n",
    "        r = requests.get(vPicA)\n",
    "        vPic1.write(r.content)\n",
    "    with open(\"Pic\\\\SignalP.ps\", \"wb\") as vPic2:\n",
    "        r = requests.get(vPicB)\n",
    "        vPic2.write(r.content)\n",
    "    with open(\"Text\\\\SignalP.txt\", \"wb\") as vTxt1:\n",
    "        r = requests.get(vTxtA)\n",
    "        vTxt1.write(r.content)"
   ]
  },
  {
   "cell_type": "code",
   "execution_count": 5,
   "metadata": {},
   "outputs": [],
   "source": [
    "def fSoupSignalP(vRealUrl):\n",
    "    with open(\"Text\\\\SignalP.txt\") as f:\n",
    "        vText = f.read()\n",
    "    vPic = \"file:///\" + vFoldNameSignalP + \"\\Pic\" + \"\\SignalP.png\"\n",
    "    SignalP = \"<h1>SignalP信号肽分析</h1><pre>\" + vText + \"</pre><p><img src=\\\"\" + vPic + \"\\\"></p>\"\n",
    "    with open(\"SignalP.html\", \"w\") as f:\n",
    "        f.write(SignalP)"
   ]
  },
  {
   "cell_type": "code",
   "execution_count": 6,
   "metadata": {},
   "outputs": [],
   "source": [
    "def main(vSeqName, vSeq):\n",
    "    print(\"======开始SignalP信号肽分析=====\")\n",
    "    fJudgeFileSignalP(vSeqName)\n",
    "    print(\"---------已创建存储目录---------\")\n",
    "    print(\"----------开始提交数据----------\")\n",
    "    vRealUrl = fGetSignalP(vSeq)\n",
    "    print(\"---------已获取分析结果---------\")\n",
    "    print(\"----------开始保存数据----------\")\n",
    "    fSaveSignalPPic(vRealUrl)\n",
    "    print(\"----------开始保存报告----------\")\n",
    "    fSoupSignalP(vRealUrl)\n",
    "    print(\"---------结果已保存完毕---------\")"
   ]
  },
  {
   "cell_type": "code",
   "execution_count": 7,
   "metadata": {},
   "outputs": [
    {
     "name": "stdout",
     "output_type": "stream",
     "text": [
      "======开始SignalP信号肽分析=====\n",
      "---------已创建存储目录---------\n",
      "----------开始提交数据----------\n",
      "---------已获取分析结果---------\n",
      "----------开始保存数据----------\n",
      "http://www.cbs.dtu.dk/services/SignalP-5.0/tmp/5E1C2BC700004CF875765C24\n",
      "----------开始保存报告----------\n",
      "---------结果已保存完毕---------\n"
     ]
    }
   ],
   "source": [
    "with open(\"name.txt\", \"r\") as f:\n",
    "    vSeqName = f.read()\n",
    "with open(\"orf.txt\", \"r\") as f:\n",
    "    vSeq = f.read()\n",
    "main(vSeqName, vSeq)"
   ]
  },
  {
   "cell_type": "code",
   "execution_count": null,
   "metadata": {},
   "outputs": [],
   "source": []
  }
 ],
 "metadata": {
  "kernelspec": {
   "display_name": "Python 3",
   "language": "python",
   "name": "python3"
  },
  "language_info": {
   "codemirror_mode": {
    "name": "ipython",
    "version": 3
   },
   "file_extension": ".py",
   "mimetype": "text/x-python",
   "name": "python",
   "nbconvert_exporter": "python",
   "pygments_lexer": "ipython3",
   "version": "3.7.3"
  }
 },
 "nbformat": 4,
 "nbformat_minor": 2
}
