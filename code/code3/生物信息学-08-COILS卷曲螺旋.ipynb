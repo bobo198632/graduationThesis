{
 "cells": [
  {
   "cell_type": "code",
   "execution_count": null,
   "metadata": {},
   "outputs": [],
   "source": [
    "import requests\n",
    "import re\n",
    "import os"
   ]
  },
  {
   "cell_type": "code",
   "execution_count": null,
   "metadata": {},
   "outputs": [],
   "source": [
    "# judge if the folder exist. 判断图集的文件夹是否存在，如果不存在则建立一个\n",
    "def fJudgeFileCOILS(vSeqName):    \n",
    "    global vFoldNameCOILS\n",
    "    vFoldNameCOILS = \"E:\\\\Store\\\\code\\\\02.Python\\\\03.Request\\\\Bio\" + \"\\\\\" + vSeqName + \"\\\\COILS\\\\\"\n",
    "    os.makedirs(vFoldNameCOILS, exist_ok = True)\n",
    "    os.chdir(vFoldNameCOILS)\n",
    "    os.makedirs(\"Pic\", exist_ok = True)\n",
    "    os.makedirs(\"Text\", exist_ok = True)"
   ]
  },
  {
   "cell_type": "code",
   "execution_count": null,
   "metadata": {},
   "outputs": [],
   "source": [
    "def fGetCOILS(vSeq):\n",
    "    vUrl = \"https://embnet.vital-it.ch/cgi-bin/COILS_form_parser\"\n",
    "    vPostData ={\"win\": \"all\",\n",
    "                \"mat\": \"MTIDK\",\n",
    "                \"weight\": \"no\",\n",
    "                \"comm\": \"\",\n",
    "                \"format\": \"plain_text\",\n",
    "                \"seq\": vSeq}\n",
    "    r = requests.post(vUrl, data = vPostData)\n",
    "    return(r.text)"
   ]
  },
  {
   "cell_type": "code",
   "execution_count": null,
   "metadata": {},
   "outputs": [],
   "source": [
    "def fSaveCOILSPic(vHtml):\n",
    "    global vCode    \n",
    "    vCode = str(re.search(\"/download.php\\?file=(.*?).gif\", vHtml, re.S).group(1))    \n",
    "    vPicA = \"https://embnet.vital-it.ch/download.php?file=\" + vCode + \".gif\"    \n",
    "    vPicB = \"https://embnet.vital-it.ch/download.php?file=\" + vCode + \".ps\"\n",
    "    vTxtA = \"https://embnet.vital-it.ch/download.php?file=\" + vCode + \".out\"    \n",
    "    with open(\"Pic\\\\COILS.gif\", \"wb\") as vPic1:\n",
    "        r = requests.get(vPicA)\n",
    "        vPic1.write(r.content)\n",
    "    with open(\"Pic\\\\COILS.ps\", \"wb\") as vPic2:\n",
    "        r = requests.get(vPicB)\n",
    "        vPic2.write(r.content)\n",
    "    with open(\"Text\\\\COILS.txt\", \"wb\") as vTxt1:\n",
    "        r = requests.get(vTxtA)\n",
    "        vTxt1.write(r.content)    "
   ]
  },
  {
   "cell_type": "code",
   "execution_count": null,
   "metadata": {},
   "outputs": [],
   "source": [
    "def fSoupCOILS(vHtml):\n",
    "    vCOILSText = vHtml\n",
    "    vCOILS1 = vCOILSText.replace(re.search(\"[\\s\\S]*\\</h1\\>\", vCOILSText, re.S).group(0), \"<h1>COILS卷曲螺旋分析</h1><p><a href = \\\"https://embnet.vital-it.ch/software/COILS_form.html\\\">使用COILS5.0查询</a></p>\")\n",
    "    vCOILS2 = vCOILS1.replace(re.search(\"\\<div id='sib_footer'\\>[\\s\\S]*\", vCOILS1, re.S).group(0), \"\").replace(\"GIF-format\", \"gif图片\")\n",
    "    vCOILS3 = vCOILS2.replace(\"Date:\", \"日期：\").replace(\"Postscript-format\", \"PS格式图片\")\n",
    "    vCOILS4 = vCOILS3.replace(\"/download.php?file=\" + vCode + \".gif\", \"file:///\" + vFoldNameCOILS + \"\\Pic\" + \"\\COILS.gif\")\n",
    "    vCOILS5 = vCOILS4.replace(\"/download.php?file=\" + vCode + \".ps\", \"file:///\" + vFoldNameCOILS + \"\\Pic\" + \"\\COILS.ps\")\n",
    "    vCOILS6 = vCOILS5.replace(\"/download.php?file=\" + vCode + \".out\", \"file:///\" + vFoldNameCOILS + \"\\Text\" + \"\\COILS.txt\")\n",
    "    vCOILS7 = vCOILS6.replace(\"numerical format (window 14, 21, 28)\", \"预测数据（以14、21、28为循环个数）\")\n",
    "    vCOILS8 = vCOILS7.replace(\"You can get the prediction graphics shown above in one of\", \"\")\n",
    "    vCOILS9 = vCOILS8.replace(\"he following formats:\", \"你可以下载以下类型的预测数据：\").replace(\"using \", \"使用\")\n",
    "    vCOILS10 = vCOILS9.replace(\" matrix\", \"矩阵\").replace(\"Input file is \", \"本次查询的工作编号：\").replace(\"NCOILS version\", \"NCOILS版本\").replace(\"no weights\", \"未预测到卷曲螺旋结构\")\n",
    "    vCOILS = vCOILS10\n",
    "    with open(\"COILS.html\", \"w\") as f:\n",
    "        f.write(vCOILS)"
   ]
  },
  {
   "cell_type": "code",
   "execution_count": null,
   "metadata": {},
   "outputs": [],
   "source": [
    "def main(vSeqName, vSeq):\n",
    "    print(\"=====开始COILS跨膜结构域分析====\")\n",
    "    fJudgeFileCOILS(vSeqName)\n",
    "    print(\"---------已创建存储目录---------\")\n",
    "    print(\"----------开始提交数据----------\")\n",
    "    vHtml = fGetCOILS(vSeq)\n",
    "    print(\"---------已获取分析结果---------\")\n",
    "    print(\"----------开始保存数据----------\")\n",
    "    fSaveCOILSPic(vHtml)\n",
    "    print(\"----------开始保存报告----------\")\n",
    "    fSoupCOILS(vHtml)\n",
    "    print(\"---------结果已保存完毕---------\")"
   ]
  },
  {
   "cell_type": "code",
   "execution_count": null,
   "metadata": {},
   "outputs": [],
   "source": [
    "with open(\"name.txt\", \"r\") as f:\n",
    "    vSeqName = f.read()\n",
    "with open(\"orf.txt\", \"r\") as f:\n",
    "    vSeq = f.read()\n",
    "main(vSeqName, vSeq)"
   ]
  },
  {
   "cell_type": "code",
   "execution_count": null,
   "metadata": {},
   "outputs": [],
   "source": []
  }
 ],
 "metadata": {
  "kernelspec": {
   "display_name": "Python 3",
   "language": "python",
   "name": "python3"
  },
  "language_info": {
   "codemirror_mode": {
    "name": "ipython",
    "version": 3
   },
   "file_extension": ".py",
   "mimetype": "text/x-python",
   "name": "python",
   "nbconvert_exporter": "python",
   "pygments_lexer": "ipython3",
   "version": "3.7.3"
  }
 },
 "nbformat": 4,
 "nbformat_minor": 2
}
