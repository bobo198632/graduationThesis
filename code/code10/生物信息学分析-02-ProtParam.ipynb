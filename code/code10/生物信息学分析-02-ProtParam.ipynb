{
 "cells": [
  {
   "cell_type": "code",
   "execution_count": null,
   "metadata": {},
   "outputs": [],
   "source": [
    "import requests\n",
    "import re"
   ]
  },
  {
   "cell_type": "code",
   "execution_count": null,
   "metadata": {},
   "outputs": [],
   "source": [
    "# get html text\n",
    "def fGetHtmlText(vSeq):\n",
    "    vUrl = \"https://web.expasy.org/cgi-bin/protparam/protparam\"\n",
    "    vHeaders = {\"User-Agent\": \"Mozilla/5.0 (Windows NT 6.1; Win64; x64; rv:69.0) Gecko/20100101 Firefox/69.0\",\n",
    "                \"Host\": \"web.expasy.org\",\n",
    "                \"Content-Type\": \"application/x-www-form-urlencoded\",\n",
    "                \"Referer\": \"https://web.expasy.org/protparam/\"}\n",
    "    vPostData ={\"prot_id\": \"\",\n",
    "                \"sequence\": vSeq,\n",
    "                \"mandatory\": \"\"}\n",
    "    try:\n",
    "        r = requests.post(vUrl, headers = vHeaders, data = vPostData)\n",
    "        r.raise_for_status()        \n",
    "        r.encoding = r.apparent_encoding\n",
    "        return(r.text)\n",
    "    except:\n",
    "        print(\"there is something wrong\")"
   ]
  },
  {
   "cell_type": "code",
   "execution_count": null,
   "metadata": {},
   "outputs": [],
   "source": [
    "# analysis the html text\n",
    "def fSoup(vHtml):\n",
    "    vHtmlA = vHtml.replace(re.search(\"([\\d\\D]*?)<h2>\", vHtml, re.S).group(1), \"\")\n",
    "    vHtmlB = vHtmlA.replace(re.search(\"(<A[\\d\\D]*?</A> are available\\.)\", vHtmlA, re.S).group(1), \"\")\n",
    "    vHtmlC = vHtmlB.replace(\"Number of amino acids\", \"总氨基酸数（Number of amino acids）\")\\\n",
    "        .replace(\"User-provided sequence\", \"氨基酸序列\")\\\n",
    "        .replace(\"Molecular weight\", \"分子量（Molecular weight）\").replace(\"Theoretical pI\",\"理论PI值（Theoretical pI）\")\\\n",
    "        .replace(\"Amino acid composition\", \"氨基酸组成（Amino acid composition）\")\\\n",
    "        .replace(\"Total number of negatively charged residues\", \"负电残基总数（Total number of negatively charged residues）\")\\\n",
    "        .replace(\"Total number of positively charged residues\", \"正电残基总数（Total number of positively charged residues）\")\\\n",
    "        .replace(\"Atomic composition\", \"原子组成（Atomic composition）\")\\\n",
    "        .replace(\"Formula:\", \"分子式（Formula）:\").replace(\"Total number of atoms\", \"总原子数（Total number of atoms）\")\\\n",
    "        .replace(\"Extinction coefficients\", \"消光系数（Extinction coefficients）\")\\\n",
    "        .replace(\"Estimated half-life\", \"预估半衰期（Estimated half-life）\")\\\n",
    "        .replace(\"The estimated half-life is\", \"预估半衰期为\").replace(\"hours\", \"h\")\\\n",
    "        .replace(\"Instability index\", \"不稳定指数\").replace(\"Aliphatic index\", \"脂肪族氨基酸指数\")\\\n",
    "        .replace(\"Grand average of hydropathicity\", \"亲水性平均系数\")\n",
    "    vHtmlD = vHtmlC.replace(re.search(\"(\\<!-- sib_body[\\d\\D].*?html>)\", vHtmlC, re.S).group(1), \"<HR>\")\n",
    "    vHtmlE = vHtmlD.replace(re.search(\"(\\<form method[\\d\\D]*?\\.pl'\\>)\", vHtmlD, re.S).group(1), \"<HR>\")\n",
    "    vHtmlF = vHtmlE.replace(re.search(\"(&nb[\\d\\D]*?CSV format'\\>)\", vHtmlE, re.S).group(1), \"<HR>\")\n",
    "    return(vHtmlF)"
   ]
  },
  {
   "cell_type": "code",
   "execution_count": null,
   "metadata": {},
   "outputs": [],
   "source": [
    "def main(vSeq):\n",
    "    vHtml = fGetHtmlText(vSeq)\n",
    "    vSoup = fSoup(vHtml)\n",
    "    print(vSoup)"
   ]
  },
  {
   "cell_type": "code",
   "execution_count": null,
   "metadata": {},
   "outputs": [],
   "source": [
    "if __name__ == \"__main__\":\n",
    "    vSeq = \"MRTGTGSRLMPLDFRKIPQPKCIYTKRQRRKKKMRQHGAELRGSQPAGAVSDGTARSRLFFINSSAHHIAMGECQDEFAIAQLPCKCCLLPIPLLHMNKFSSIQCHKGLDLPVICCRLIKLHPQMKADLCVLEGAVCFYDDSIPVLLDDCGRLGHASHLPGGKAHTE\"\n",
    "    main(vSeq)"
   ]
  },
  {
   "cell_type": "code",
   "execution_count": null,
   "metadata": {},
   "outputs": [],
   "source": []
  }
 ],
 "metadata": {
  "kernelspec": {
   "display_name": "Python 3",
   "language": "python",
   "name": "python3"
  },
  "language_info": {
   "codemirror_mode": {
    "name": "ipython",
    "version": 3
   },
   "file_extension": ".py",
   "mimetype": "text/x-python",
   "name": "python",
   "nbconvert_exporter": "python",
   "pygments_lexer": "ipython3",
   "version": "3.7.3"
  }
 },
 "nbformat": 4,
 "nbformat_minor": 2
}
