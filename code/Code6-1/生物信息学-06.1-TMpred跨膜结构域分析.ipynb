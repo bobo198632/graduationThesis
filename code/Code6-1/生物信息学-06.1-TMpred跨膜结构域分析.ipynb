{
 "cells": [
  {
   "cell_type": "code",
   "execution_count": null,
   "metadata": {},
   "outputs": [],
   "source": [
    "import requests\n",
    "import re\n",
    "import os"
   ]
  },
  {
   "cell_type": "code",
   "execution_count": null,
   "metadata": {},
   "outputs": [],
   "source": [
    "# judge if the folder exist. 判断图集的文件夹是否存在，如果不存在则建立一个\n",
    "def fJudgeFileTMpred(vSeqName):    \n",
    "    global vFoldNameTMpred\n",
    "    vFoldNameTMpred = \"E:\\\\Store\\\\code\\\\02.Python\\\\03.Request\\\\Bio\" + \"\\\\\" + vSeqName + \"\\\\跨膜结构域\\\\TMpred跨膜结构域分析\\\\\"\n",
    "    os.makedirs(vFoldNameTMpred, exist_ok = True)\n",
    "    os.chdir(vFoldNameTMpred)\n",
    "    os.makedirs(\"Pic\", exist_ok = True)\n",
    "    os.makedirs(\"Text\", exist_ok = True)"
   ]
  },
  {
   "cell_type": "code",
   "execution_count": null,
   "metadata": {},
   "outputs": [],
   "source": [
    "def fGetTMpred(vSeq):\n",
    "    vUrl = \"https://embnet.vital-it.ch/cgi-bin/TMPRED_form_parser\"\n",
    "    vPostData ={\"outmode\": \"html\",\n",
    "                \"min\": \"17\",\n",
    "                \"max\": \"33\",\n",
    "                \"comm\": \"\",\n",
    "                \"format\": \"plain_text\",\n",
    "                \"seq\": vSeq,}\n",
    "    r = requests.post(vUrl, data = vPostData)\n",
    "    return(r.text)"
   ]
  },
  {
   "cell_type": "code",
   "execution_count": null,
   "metadata": {},
   "outputs": [],
   "source": [
    "def fSaveTMpredPic(vHtml):\n",
    "    global vCode    \n",
    "    vCode = str(re.search(\"download.php\\?file=(.*?).gif\", vHtml, re.S).group(1))    \n",
    "    vPicA = \"https://embnet.vital-it.ch\" + \"/download.php?file=\" + vCode + \".gif\"    \n",
    "    vPicB = \"https://embnet.vital-it.ch\" + \"/download.php?file=\" + vCode + \".ps\"\n",
    "    vTxtA = \"https://embnet.vital-it.ch\" + \"/download.php?file=\" + vCode + \".txt\"    \n",
    "    with open(\"Pic\\\\TMpred.gif\", \"wb\") as vPic1:\n",
    "        r = requests.get(vPicA)\n",
    "        vPic1.write(r.content)\n",
    "    with open(\"Pic\\\\TMpred.ps\", \"wb\") as vPic2:\n",
    "        r = requests.get(vPicB)\n",
    "        vPic2.write(r.content)\n",
    "    with open(\"Text\\\\TMpred.txt\", \"wb\") as vTxt1:\n",
    "        r = requests.get(vTxtA)\n",
    "        vTxt1.write(r.content)    "
   ]
  },
  {
   "cell_type": "code",
   "execution_count": null,
   "metadata": {},
   "outputs": [],
   "source": [
    "def fSoupTMpred(vHtml):\n",
    "    vTMpredText = vHtml\n",
    "    vTMpred1 = vTMpredText.replace(re.search(\"[\\s\\S]*\\</h1\\>\", vTMpredText, re.S).group(0), \"<h1>TMpred阔膜结构域分析</h1>\")\n",
    "    vTMpred2 = vTMpred1.replace(re.search(\"\\<div id = 'sib_footer'\\>[\\s\\S]*\", vTMpred1, re.S).group(0), \"\")\n",
    "    vTMpred3 = vTMpred2.replace(\"Date:\", \"日期：\").replace(\"TMpred prediction output for :\", \"TMpred服务登记编号：\")\n",
    "    vTMpred4 = vTMpred3.replace(\"/download.php?file=\" + vCode + \".gif\", \"file:///\" + vFoldNameTMpred + \"\\Pic\" + \"\\TMpred.gif\")\n",
    "    vTMpred5 = vTMpred4.replace(\"/download.php?file=\" + vCode + \".ps\", \"file:///\" + vFoldNameTMpred + \"\\Pic\" + \"\\TMpred.ps\")\n",
    "    vTMpred6 = vTMpred5.replace(\"/download.php?file=\" + vCode + \".txt\", \"file:///\" + vFoldNameTMpred + \"\\Text\" + \"\\TMpred.txt\")\n",
    "    vTMpred = vTMpred6\n",
    "    with open(\"TMpred.html\", \"w\") as f:\n",
    "        f.write(vTMpred)"
   ]
  },
  {
   "cell_type": "code",
   "execution_count": null,
   "metadata": {},
   "outputs": [],
   "source": [
    "def main(vSeqName, vSeq):\n",
    "    print(\"====开始TMpred跨膜结构域分析====\")\n",
    "    fJudgeFileTMpred(vSeqName)\n",
    "    print(\"---------已创建存储目录---------\")\n",
    "    print(\"----------开始提交数据----------\")\n",
    "    vHtml = fGetTMpred(vSeq)\n",
    "    print(\"---------已获取分析结果---------\")\n",
    "    print(\"----------开始保存数据----------\")\n",
    "    fSaveTMpredPic(vHtml)\n",
    "    print(\"----------开始保存报告----------\")\n",
    "    fSoupTMpred(vHtml)\n",
    "    print(\"---------结果已保存完毕---------\")"
   ]
  },
  {
   "cell_type": "code",
   "execution_count": null,
   "metadata": {},
   "outputs": [],
   "source": [
    "with open(\"name.txt\", \"r\") as f:\n",
    "    vSeqName = f.read()\n",
    "with open(\"orf.txt\", \"r\") as f:\n",
    "    vSeq = f.read()\n",
    "main(vSeqName, vSeq)"
   ]
  }
 ],
 "metadata": {
  "kernelspec": {
   "display_name": "Python 3",
   "language": "python",
   "name": "python3"
  },
  "language_info": {
   "codemirror_mode": {
    "name": "ipython",
    "version": 3
   },
   "file_extension": ".py",
   "mimetype": "text/x-python",
   "name": "python",
   "nbconvert_exporter": "python",
   "pygments_lexer": "ipython3",
   "version": "3.7.3"
  }
 },
 "nbformat": 4,
 "nbformat_minor": 2
}
