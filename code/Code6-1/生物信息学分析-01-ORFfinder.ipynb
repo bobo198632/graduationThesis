{
 "cells": [
  {
   "cell_type": "code",
   "execution_count": null,
   "metadata": {},
   "outputs": [],
   "source": [
    "import requests\n",
    "import json\n",
    "import os\n",
    "import pprint"
   ]
  },
  {
   "cell_type": "code",
   "execution_count": null,
   "metadata": {},
   "outputs": [],
   "source": [
    "def fCreatOrfFloder():\n",
    "    vOrfFolder = os.getcwd() + \"\\\\\" + vSeqName + \"\\\\\""
   ]
  },
  {
   "cell_type": "code",
   "execution_count": null,
   "metadata": {},
   "outputs": [],
   "source": [
    "# judge if zhe folder exist. 判断图集的文件夹是否存在，如果不存在则建立一个\n",
    "def fJudgeFile(vSeqName):\n",
    "    global vOrfFolder\n",
    "    vOrfFolder = os.getcwd() + \"\\\\\" + vSeqName + \"\\\\\"\n",
    "    os.makedirs(os.getcwd() + \"\\\\\" + vSeqName + \"\\\\orf\\\\\", exist_ok = True)    "
   ]
  },
  {
   "cell_type": "code",
   "execution_count": null,
   "metadata": {},
   "outputs": [],
   "source": [
    "# get gene sequence\n",
    "def fGetSeq():\n",
    "    with open(\"gene.txt\", \"r\") as f:\n",
    "        vSeq = f.read().replace(\"\\r\", \"\").replace(\"\\n\", \"\")\n",
    "    return(vSeq)"
   ]
  },
  {
   "cell_type": "code",
   "execution_count": null,
   "metadata": {},
   "outputs": [],
   "source": [
    "# get html text\n",
    "def fGetHtmlText(vSeq):    \n",
    "    try:\n",
    "        vUrl = \"https://www.ncbi.nlm.nih.gov/projects/orffinder/ORFfinderBE.cgi\"\n",
    "        vHeaders = {\"User-Agent\": \"Mozilla/5.0\"}\n",
    "        vPostData ={\"acc\": vSeq,\n",
    "                    \"minlen\": '25',\n",
    "                    \"gcode\": \"1\",\n",
    "                    \"startcdn\": \"1\"}\n",
    "        r = requests.post(vUrl, headers = vHeaders, data = vPostData)\n",
    "        r.raise_for_status()\n",
    "        r.encoding = r.apparent_encoding\n",
    "        return(r.text)\n",
    "    except:\n",
    "        print(\"there is something wrong\")"
   ]
  },
  {
   "cell_type": "code",
   "execution_count": null,
   "metadata": {
    "scrolled": true
   },
   "outputs": [],
   "source": [
    "# get respons text\n",
    "def fGetJsonText(vHtml):\n",
    "    vData = json.loads(vHtml)\n",
    "    vSequence = []\n",
    "    for vSeq in vData[\"retval\"][\"orflist\"]:\n",
    "        try:\n",
    "            vSequence.append(vSeq[\"aa\"])            \n",
    "        except:\n",
    "            continue\n",
    "    return(vSequence)"
   ]
  },
  {
   "cell_type": "code",
   "execution_count": null,
   "metadata": {},
   "outputs": [],
   "source": [
    "# save datas\n",
    "def fSaveDatas(vSequence):\n",
    "    i = 1\n",
    "    for vSeq in vSequence:\n",
    "        with open(vSeqName + \"\\\\orf\\\\\" + \"\\\\orfFinder.csv\", \"a\") as f:\n",
    "            f.write(str(i) + \",\" + str(len(vSeq)) + \",\" + vSeq + \"\\n\")\n",
    "            i += 1\n",
    "    vLongestSeq = \"\"\n",
    "    for vSeq in vSequence:\n",
    "        if len(vSeq) > len(vLongestSeq):\n",
    "            vLongestSeq = vSeq\n",
    "    with open(vSeqName + \"\\\\orf\\\\\" + \"\\\\orf.txt\", \"w\") as f:\n",
    "        f.write(vLongestSeq)       "
   ]
  },
  {
   "cell_type": "code",
   "execution_count": null,
   "metadata": {},
   "outputs": [],
   "source": [
    "def main(vSeq, vSeqName):    \n",
    "    fJudgeFile(vSeqName)\n",
    "    vHtml = fGetHtmlText(vSeq)\n",
    "    vSequence = fGetJsonText(vHtml) \n",
    "    fSaveDatas(vSequence)"
   ]
  },
  {
   "cell_type": "code",
   "execution_count": null,
   "metadata": {},
   "outputs": [],
   "source": [
    "vSeqName = input(\"请输入基因的名称，该名称将用于创建输出文件夹\")\n",
    "vSeq = fGetSeq()\n",
    "main(vSeq, vSeqName)"
   ]
  },
  {
   "cell_type": "code",
   "execution_count": null,
   "metadata": {},
   "outputs": [],
   "source": []
  }
 ],
 "metadata": {
  "kernelspec": {
   "display_name": "Python 3",
   "language": "python",
   "name": "python3"
  },
  "language_info": {
   "codemirror_mode": {
    "name": "ipython",
    "version": 3
   },
   "file_extension": ".py",
   "mimetype": "text/x-python",
   "name": "python",
   "nbconvert_exporter": "python",
   "pygments_lexer": "ipython3",
   "version": "3.7.3"
  }
 },
 "nbformat": 4,
 "nbformat_minor": 2
}
