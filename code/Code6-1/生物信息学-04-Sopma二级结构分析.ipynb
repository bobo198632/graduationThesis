{
 "cells": [
  {
   "cell_type": "code",
   "execution_count": null,
   "metadata": {},
   "outputs": [],
   "source": [
    "import os\n",
    "from selenium import webdriver\n",
    "import requests\n",
    "from selenium.webdriver.firefox.options import Options\n",
    "import time\n",
    "import re"
   ]
  },
  {
   "cell_type": "code",
   "execution_count": null,
   "metadata": {},
   "outputs": [],
   "source": [
    "# judge if zhe folder exist. 判断图集的文件夹是否存在，如果不存在则建立一个\n",
    "def fJudgeFile(vSeqName):\n",
    "    global vSpomaFoldName\n",
    "    # vSpomaFoldName = vOrfFolder + vSeqName + \"\\\\SPOMA\\\\\"\n",
    "    vSpomaFoldName = \"E:\\\\Store\\\\code\\\\02.Python\\\\03.Request\\\\Bio\" + \"\\\\\" + vSeqName + \"\\\\SPOMA二级结构分析\\\\\"\n",
    "    os.makedirs(vSpomaFoldName, exist_ok = True)\n",
    "    os.chdir(vSpomaFoldName)\n",
    "    os.makedirs(\"Pic\", exist_ok = True)\n",
    "    os.makedirs(\"Text\", exist_ok = True)"
   ]
  },
  {
   "cell_type": "code",
   "execution_count": null,
   "metadata": {},
   "outputs": [],
   "source": [
    "def fGetSopma(vSeq):\n",
    "    options = Options()\n",
    "    options.headless = True # 设置为无头浏览器\n",
    "    vWebObj = webdriver.Firefox(options = options) # 创建浏览器\n",
    "    # 设置url，发送请求\n",
    "    url = 'https://npsa-prabi.ibcp.fr/cgi-bin/npsa_automat.pl?page=/NPSA/npsa_sopma.html'\n",
    "    vWebObj.get(url)\n",
    "    print(\"==========已打开网页==========\")\n",
    "    # 通过name属性找到输入框\n",
    "    text = vWebObj.find_element_by_name('notice')\n",
    "    # 递交序列    \n",
    "    text.send_keys(vSeq)\n",
    "    print(\"==========已输入序列==========\")\n",
    "    # 通过Xpath找到提交按钮\n",
    "    vButton = vWebObj.find_element_by_xpath(\"//input[@value='SUBMIT']\")\n",
    "    # 点击按钮\n",
    "    time.sleep(1)\n",
    "    print(\"=========正在发送请求=========\")\n",
    "    vButton.click()\n",
    "    print(\"=========开始等候分析=========\")\n",
    "    time.sleep(20)\n",
    "    vHtml = vWebObj.page_source    \n",
    "    #关闭浏览器\n",
    "    vWebObj.quit()\n",
    "    print(\"=========数据拉取结束=========\")\n",
    "    return(vHtml)"
   ]
  },
  {
   "cell_type": "code",
   "execution_count": null,
   "metadata": {},
   "outputs": [],
   "source": [
    "def fSavePic(vHtml):\n",
    "    global vCode\n",
    "    vCode = re.search(\"/tmp/(.*?)\\.sopma\", vHtml, re.S).group(1)\n",
    "    vPicA = \"https://npsa-prabi.ibcp.fr/tmp/\" + vCode + \".sopma_state.gif\"\n",
    "    vPicB = \"https://npsa-prabi.ibcp.fr/tmp/\" + vCode + \".sopma2.gif\"\n",
    "    vTxtA = \"https://npsa-prabi.ibcp.fr/cgi-bin/npsa_mpsaview.pl?fn=/tmp/\" + vCode + \".sopma&gui=antheprot\"\n",
    "    vTxtB = \"https://npsa-prabi.ibcp.fr/tmp/\" + vCode + \".sopma\"\n",
    "    vTxtC = \"https://npsa-prabi.ibcp.fr/tmp/\" + vCode + \".blastpsecpred\"\n",
    "    vTxtD =  \"https://npsa-prabi.ibcp.fr/tmp/\" + vCode + \".cluoutsecpred\"\n",
    "    with open(\"Pic\\\\sopma_state.gif\", \"wb\") as vPic1:\n",
    "        r = requests.get(vPicA)\n",
    "        vPic1.write(r.content)\n",
    "    with open(\"Pic\\\\sopma2.gif\", \"wb\") as vPic2:\n",
    "        r = requests.get(vPicB)\n",
    "        vPic2.write(r.content)\n",
    "    with open(\"Text\\\\spoma1.txt\", \"wb\") as vTxt1:\n",
    "        r = requests.get(vTxtA)\n",
    "        vTxt1.write(r.content)\n",
    "    with open(\"Text\\\\spoma2.txt\", \"wb\") as vTxt2:\n",
    "        r = requests.get(vTxtB)\n",
    "        vTxt2.write(r.content)\n",
    "    with open(\"Text\\\\blastP.txt\", \"wb\") as vTxt3:\n",
    "        r = requests.get(vTxtC)\n",
    "        vTxt3.write(r.content)\n",
    "    with open(\"Text\\\\clust.txt\", \"wb\") as vTxt4:\n",
    "        r = requests.get(vTxtD)\n",
    "        vTxt4.write(r.content)         "
   ]
  },
  {
   "cell_type": "code",
   "execution_count": null,
   "metadata": {},
   "outputs": [],
   "source": [
    "def fSoupSompa(vHtml):\n",
    "    vSpomaText = \"file:///\" + vSpomaFoldName + \"Text\" + \"\\spoma1.txt\"\n",
    "    vSopma1 = \"<B>SOMPA:</B><p>以下内容为来自<a target=\\\"_blank\\\" href=\\\"https://npsa-prabi.ibcp.fr/cgi-bin/npsa_automat.pl?page=/NPSA/npsa_sopma.html\\\">SOMPA</a>的二级结构预测。</p>\" \"<a href = \" + vSpomaText + \">SPOMA分析文档</a>\" + re.search(\"(\\<pre\\>[\\s\\S]*?)\\<meta\", vHtml, re.S).group(1)\n",
    "    vSopma2 = vSopma1.replace(\"Sequence length\", \"序列长度（Sequence length）\").replace(\"SOPMA\", \"SOPMA二级结构预测\")\n",
    "    vSopma3 = vSopma2.replace(\"Alpha helix\", \"α-螺旋（Alpha helix）   \").replace(\"3<sub>10 </sub> helix\", \"3<sub>10</sub>螺旋（3<sub>10 </sub> helix）   \")\n",
    "    vSopma4 = vSopma3.replace(\"Pi helix\", \"Pi螺旋（Pi helix）    \").replace(\"Beta bridge\", \"β桥（Beta bridge）      \")\n",
    "    vSopma5 = vSopma4.replace(\"Extended strand\", \"延伸链（Extended strand）    \").replace(\"Beta turn\", \"β转角（Beta turn）    \")\n",
    "    vSopma6 = vSopma5.replace(\"Bend region\", \"Bend region              \").replace(\"Random coil\", \"无规则卷曲（Random coil）\")\n",
    "    vSopma7 = vSopma6.replace(\"Ambiguous states\", \"无法确定的部分               \").replace(\"Other states\", \"其它状态                  \")\n",
    "    vSopma8 = vSopma7.replace(re.search(\"(\\<pre\\>Para[\\s\\S]*?\\</pre\\>)\", vSopma7, re.S).group(1), \"\")\n",
    "    vSopma9 = vSopma8.replace(re.search(\"(\\<i\\>\\<b\\>User[\\s\\S]*?\\</i\\>)\", vSopma8, re.S).group(1), \"\")\n",
    "    vSopma10 = vSopma9.replace(\"Prediction result file (text)\", \"用于预测的文件（txt）\").replace(\"Intermediate result file (text)\", \"中间比对文件(txt)\")\n",
    "    vSopma11 = vSopma10.replace(\"/tmp/\"+ vCode + \".sopma_state.gif\", \"file:///\" + vSpomaFoldName + \"\\Pic\" + \"\\sopma_state.gif\")\n",
    "    vSopma12 = vSopma11.replace(\"/tmp/\"+ vCode + \".sopma2.gif\", \"file:///\" + vSpomaFoldName + \"\\Pic\" + \"\\sopma2.gif\")\n",
    "    vSopma13 = vSopma12.replace(\"/tmp/\"+ vCode + \".sopma\", \"file:///\" + vSpomaFoldName + \"\\Text\" + \"\\spoma2.txt\")\n",
    "    vSopma14 = vSopma13.replace(\"/tmp/\"+ vCode + \".blastpsecpred\", \"file:///\" + vSpomaFoldName + \"Text\" + \"\\\\blastP.txt\")\n",
    "    vSopma15 = vSopma14.replace(\"/tmp/\"+ vCode + \".cluoutsecpred\", \"file:///\" + vSpomaFoldName + \"Text\" + \"\\clust.txt\")\n",
    "    vSopma = vSopma15\n",
    "    with open(\"sopma.html\", \"w\") as f:\n",
    "        f.write(vSopma)"
   ]
  },
  {
   "cell_type": "code",
   "execution_count": null,
   "metadata": {},
   "outputs": [],
   "source": [
    "def main(vSeqName, vSeq):\n",
    "    fJudgeFile(vSeqName)\n",
    "    print(\"========已建立存储路径========\")\n",
    "    print(\"存储路径为：\" + vSpomaFoldName)\n",
    "    print(\"=========开始打开网页=========\")\n",
    "    vHtml = fGetSopma(vSeq)\n",
    "    print(\"=======已获取SOMPA的分析======\")\n",
    "    fSavePic(vHtml)\n",
    "    print(\"=======已存储图片及数据=======\")\n",
    "    fSoupSompa(vHtml)\n",
    "    print(\"========已生成报告文档========\")"
   ]
  },
  {
   "cell_type": "code",
   "execution_count": null,
   "metadata": {},
   "outputs": [],
   "source": [
    "with open(\"name.txt\", \"r\") as f:\n",
    "    vSeqName = f.read()\n",
    "with open(\"orf.txt\", \"r\") as f:\n",
    "    vSeq = f.read()\n",
    "main(vSeqName, vSeq)"
   ]
  }
 ],
 "metadata": {
  "kernelspec": {
   "display_name": "Python 3",
   "language": "python",
   "name": "python3"
  },
  "language_info": {
   "codemirror_mode": {
    "name": "ipython",
    "version": 3
   },
   "file_extension": ".py",
   "mimetype": "text/x-python",
   "name": "python",
   "nbconvert_exporter": "python",
   "pygments_lexer": "ipython3",
   "version": "3.7.3"
  }
 },
 "nbformat": 4,
 "nbformat_minor": 2
}
